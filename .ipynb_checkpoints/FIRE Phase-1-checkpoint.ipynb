{
 "cells": [
  {
   "cell_type": "code",
   "execution_count": null,
   "id": "281233ed",
   "metadata": {},
   "outputs": [],
   "source": [
    "import pandas as pd\n",
    "import numpy as np\n",
    "import random"
   ]
  },
  {
   "cell_type": "code",
   "execution_count": null,
   "id": "ea31f83b",
   "metadata": {},
   "outputs": [],
   "source": [
    "links_df = pd.read_csv('data/links.csv')"
   ]
  },
  {
   "cell_type": "code",
   "execution_count": null,
   "id": "5e0e635f",
   "metadata": {},
   "outputs": [],
   "source": [
    "links_df"
   ]
  },
  {
   "cell_type": "code",
   "execution_count": null,
   "id": "2e6190e1",
   "metadata": {},
   "outputs": [],
   "source": [
    "movies_df = pd.read_csv('data/movies.csv')"
   ]
  },
  {
   "cell_type": "code",
   "execution_count": null,
   "id": "0472aa0a",
   "metadata": {},
   "outputs": [],
   "source": [
    "movies_df"
   ]
  },
  {
   "cell_type": "code",
   "execution_count": null,
   "id": "0dffd449",
   "metadata": {},
   "outputs": [],
   "source": [
    "ratings_df = pd.read_csv('data/ratings.csv')"
   ]
  },
  {
   "cell_type": "code",
   "execution_count": null,
   "id": "141c4870",
   "metadata": {},
   "outputs": [],
   "source": [
    "ratings_df"
   ]
  },
  {
   "cell_type": "code",
   "execution_count": null,
   "id": "1399b3cf",
   "metadata": {},
   "outputs": [],
   "source": [
    "tags_df = pd.read_csv('data/tags.csv')"
   ]
  },
  {
   "cell_type": "code",
   "execution_count": null,
   "id": "1dccffa0",
   "metadata": {},
   "outputs": [],
   "source": [
    "tags_df"
   ]
  },
  {
   "cell_type": "code",
   "execution_count": null,
   "id": "818a4ed9",
   "metadata": {},
   "outputs": [],
   "source": [
    "movies_df[movies_df['movieId'] == 60756]"
   ]
  },
  {
   "cell_type": "code",
   "execution_count": null,
   "id": "c65a35e5",
   "metadata": {},
   "outputs": [],
   "source": [
    "food_tag_columns = [\"UserID\", \"FoodID\", \"Tag\", \"Timestamp\"]"
   ]
  },
  {
   "cell_type": "code",
   "execution_count": null,
   "id": "18b8a7b2",
   "metadata": {},
   "outputs": [],
   "source": [
    "food_rating_columns = [\"FoodID\", \"UserID\", \"Rating\", \"Timestamp\"]"
   ]
  },
  {
   "cell_type": "code",
   "execution_count": null,
   "id": "ba7113fa",
   "metadata": {},
   "outputs": [],
   "source": [
    "food_columns = [\"FoodID\", \"FoodName\", \"Cuisine\"]"
   ]
  },
  {
   "cell_type": "code",
   "execution_count": null,
   "id": "619d8c56",
   "metadata": {},
   "outputs": [],
   "source": [
    "Food_Tags = pd.DataFrame(columns = food_tag_columns)\n",
    "Food_Rating = pd.DataFrame(columns = food_rating_columns)\n",
    "Food_Data = pd.DataFrame(columns = food_columns)"
   ]
  },
  {
   "cell_type": "code",
   "execution_count": null,
   "id": "e9202153",
   "metadata": {},
   "outputs": [],
   "source": [
    "Food_Tags.to_csv(\"ORS Data/Food_Tags.csv\")\n",
    "Food_Rating.to_csv(\"ORS Data/Food_Rating.csv\")\n",
    "Food_Data.to_csv(\"ORS Data/Food_Data.csv\")"
   ]
  },
  {
   "cell_type": "code",
   "execution_count": null,
   "id": "47a51fc4",
   "metadata": {},
   "outputs": [],
   "source": [
    "rating1=[\"Flavorless\",\"Tasteless\",\"Bland\",\"Vapid\",\"Unappetizing\",\"Dull\",\"Unpalatable\",\"Lackluster\"]\n",
    "rating2=[\"Mediocre\",\"Subpar\",\"Average\",\"Fair\",\"Ordinary\",\"Passable\"]\n",
    "rating3=[\"Adequate\",\"Middling\",\"Ho-hum\",\"Inadequate\",\"Run-of-the-mill\",\"Lackadaisical\",\"Unimpressive\",\"Decent\"]\n",
    "rating4=[\"Exceptional\",\"Outstanding\",\"Superb\",\"Excellent\",\"Impressive\",\"Delectable\",\"Flavorful\",\"Gourmet\",\"Exquisite\",\"Remarkable\"]\n",
    "rating5=[\"Top-notchCulinary delight\",\"Mouthwatering\",\"Tantalizing\",\"Sumptuous\",\"Divine\",\"Luxurious\",\"Pinnacle of taste\",\"Masterfully prepared\",\"culinary masterpiece\"]"
   ]
  },
  {
   "cell_type": "code",
   "execution_count": null,
   "id": "5ac22c98",
   "metadata": {},
   "outputs": [],
   "source": [
    "tag_df = pd.read_csv(\"ORS Data/Food_Tags.csv\")"
   ]
  },
  {
   "cell_type": "code",
   "execution_count": null,
   "id": "a495c1ef",
   "metadata": {},
   "outputs": [],
   "source": [
    "tag_df.drop(\"tag\", axis = 1)"
   ]
  },
  {
   "cell_type": "code",
   "execution_count": null,
   "id": "99e1c654",
   "metadata": {},
   "outputs": [],
   "source": [
    "rating_df = pd.read_csv(\"ORS Data/Food_Rating.csv\")"
   ]
  },
  {
   "cell_type": "code",
   "execution_count": null,
   "id": "a351f4e1",
   "metadata": {},
   "outputs": [],
   "source": [
    "rating_df"
   ]
  },
  {
   "cell_type": "code",
   "execution_count": null,
   "id": "fb8bfb83",
   "metadata": {},
   "outputs": [],
   "source": [
    "def add_tags(df):\n",
    "    for rating in df['Rating']:\n",
    "        if rating == 1:\n",
    "            df['Tags'] = random.choice(rating1)\n",
    "        elif rating ==2:\n",
    "            df['Tags'] = random.choice(rating2)\n",
    "        elif rating ==3:\n",
    "            df['Tags'] = random.choice(rating3)\n",
    "        elif rating ==4:\n",
    "            df['Tags'] = random.choice(rating4)\n",
    "        elif rating ==5:\n",
    "            df['Tags'] = random.choice(rating5)\n",
    "    return df"
   ]
  },
  {
   "cell_type": "code",
   "execution_count": null,
   "id": "1087b87d",
   "metadata": {},
   "outputs": [],
   "source": [
    "rating_df = add_tags(rating_df)"
   ]
  },
  {
   "cell_type": "code",
   "execution_count": null,
   "id": "0f31e653",
   "metadata": {},
   "outputs": [],
   "source": [
    "df = rating_df.copy()\n",
    "add_tags_lambda = df.assign(tags=df['Rating'].apply(lambda x: random.choice(globals()[f'rating{x}'])))"
   ]
  },
  {
   "cell_type": "code",
   "execution_count": null,
   "id": "4f6d063d",
   "metadata": {},
   "outputs": [],
   "source": [
    "add_tags_lambda.drop([\"Rating\", \"timestamp\"], axis = 1, inplace = True)"
   ]
  },
  {
   "cell_type": "code",
   "execution_count": null,
   "id": "db1fa9b6",
   "metadata": {},
   "outputs": [],
   "source": [
    "add_tags_lambda.to_csv(\"ORS Data/Food_tags.csv\", index = False)"
   ]
  },
  {
   "cell_type": "code",
   "execution_count": null,
   "id": "af093954",
   "metadata": {},
   "outputs": [],
   "source": []
  }
 ],
 "metadata": {
  "kernelspec": {
   "display_name": "Python 3 (ipykernel)",
   "language": "python",
   "name": "python3"
  },
  "language_info": {
   "codemirror_mode": {
    "name": "ipython",
    "version": 3
   },
   "file_extension": ".py",
   "mimetype": "text/x-python",
   "name": "python",
   "nbconvert_exporter": "python",
   "pygments_lexer": "ipython3",
   "version": "3.11.5"
  }
 },
 "nbformat": 4,
 "nbformat_minor": 5
}
