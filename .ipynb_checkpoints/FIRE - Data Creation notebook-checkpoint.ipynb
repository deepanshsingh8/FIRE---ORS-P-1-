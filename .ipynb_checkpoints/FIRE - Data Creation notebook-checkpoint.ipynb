{
 "cells": [
  {
   "cell_type": "code",
   "execution_count": null,
   "id": "855bc6b2",
   "metadata": {},
   "outputs": [],
   "source": [
    "import pandas as pd\n",
    "import numpy as np\n",
    "import random"
   ]
  },
  {
   "cell_type": "code",
   "execution_count": null,
   "id": "958fa605",
   "metadata": {},
   "outputs": [],
   "source": [
    "food_data = pd.read_csv(\"ORS Data/food_data.csv\", index_col = 0)"
   ]
  },
  {
   "cell_type": "code",
   "execution_count": null,
   "id": "b25e5d32",
   "metadata": {},
   "outputs": [],
   "source": [
    "food_data"
   ]
  },
  {
   "cell_type": "code",
   "execution_count": null,
   "id": "ba34794f",
   "metadata": {},
   "outputs": [],
   "source": [
    "ratings_df = pd.read_csv(\"ORS Data/food_rating.csv\", index_col = 0)"
   ]
  },
  {
   "cell_type": "code",
   "execution_count": null,
   "id": "a01fa171",
   "metadata": {},
   "outputs": [],
   "source": [
    "ratings_df"
   ]
  },
  {
   "cell_type": "code",
   "execution_count": null,
   "id": "db3c27f5",
   "metadata": {},
   "outputs": [],
   "source": [
    "FoodID = [random.randint(1, 57) for _ in range(1000)]"
   ]
  },
  {
   "cell_type": "code",
   "execution_count": null,
   "id": "ec01d6cb",
   "metadata": {},
   "outputs": [],
   "source": [
    "FoodID"
   ]
  },
  {
   "cell_type": "code",
   "execution_count": null,
   "id": "0ca61500",
   "metadata": {},
   "outputs": [],
   "source": [
    "UserID = [random.randint(1, 20) for _ in range(1000)]"
   ]
  },
  {
   "cell_type": "code",
   "execution_count": null,
   "id": "2be4888c",
   "metadata": {},
   "outputs": [],
   "source": [
    "rating = [random.randint(1, 5) for _ in range(1000)]"
   ]
  },
  {
   "cell_type": "code",
   "execution_count": null,
   "id": "13169fbc",
   "metadata": {},
   "outputs": [],
   "source": [
    "rating"
   ]
  },
  {
   "cell_type": "code",
   "execution_count": null,
   "id": "c9c73ef3",
   "metadata": {},
   "outputs": [],
   "source": [
    "ratings_df[\"FoodID\"] = FoodID"
   ]
  },
  {
   "cell_type": "code",
   "execution_count": null,
   "id": "f8558da8",
   "metadata": {},
   "outputs": [],
   "source": [
    "ratings_df[\"UserID\"] = UserID\n",
    "ratings_df[\"Rating\"] = rating"
   ]
  },
  {
   "cell_type": "code",
   "execution_count": null,
   "id": "3891bb96",
   "metadata": {},
   "outputs": [],
   "source": [
    "ratings_df.drop(\"timestamp\", axis = 1)"
   ]
  },
  {
   "cell_type": "code",
   "execution_count": null,
   "id": "c4dab9f1",
   "metadata": {},
   "outputs": [],
   "source": [
    "ratings_df.to_csv(\"ORS Data/food_rating.csv\", index = False)"
   ]
  },
  {
   "cell_type": "code",
   "execution_count": null,
   "id": "208a27eb",
   "metadata": {},
   "outputs": [],
   "source": [
    "ratings_df"
   ]
  },
  {
   "cell_type": "code",
   "execution_count": null,
   "id": "602fc40c",
   "metadata": {},
   "outputs": [],
   "source": [
    "tags_df = pd.read_csv(\"ORS Data/food_tags.csv\", index_col = 0)"
   ]
  },
  {
   "cell_type": "code",
   "execution_count": null,
   "id": "90f97327",
   "metadata": {},
   "outputs": [],
   "source": [
    "tags_df"
   ]
  },
  {
   "cell_type": "code",
   "execution_count": null,
   "id": "367a338d",
   "metadata": {},
   "outputs": [],
   "source": [
    "tags_df[\"UserID\"] = UserID\n",
    "tags_df[\"FoodID\"] = FoodID"
   ]
  },
  {
   "cell_type": "code",
   "execution_count": null,
   "id": "d3845a1d",
   "metadata": {},
   "outputs": [],
   "source": [
    "tags = [\"Tasty\", \"wonderful\", \"wow\", \"so good\", \"amazing\"]*200"
   ]
  },
  {
   "cell_type": "code",
   "execution_count": null,
   "id": "3bd17ed3",
   "metadata": {},
   "outputs": [],
   "source": [
    "tags"
   ]
  },
  {
   "cell_type": "code",
   "execution_count": null,
   "id": "b1aeac17",
   "metadata": {},
   "outputs": [],
   "source": [
    "tags_df[\"Tag\"] = tags"
   ]
  },
  {
   "cell_type": "code",
   "execution_count": null,
   "id": "4d31367d",
   "metadata": {
    "scrolled": true
   },
   "outputs": [],
   "source": [
    "tags_df.drop([\"Timestamp\", \"FoodOD\"], axis = 1)"
   ]
  },
  {
   "cell_type": "code",
   "execution_count": null,
   "id": "918ea009",
   "metadata": {},
   "outputs": [],
   "source": [
    "tags_df.to_csv(\"ORS Data/Food_Tags.csv\", index = False)"
   ]
  },
  {
   "cell_type": "code",
   "execution_count": null,
   "id": "d1dbd657",
   "metadata": {},
   "outputs": [],
   "source": []
  },
  {
   "cell_type": "code",
   "execution_count": null,
   "id": "958d076a",
   "metadata": {},
   "outputs": [],
   "source": []
  }
 ],
 "metadata": {
  "kernelspec": {
   "display_name": "Python 3 (ipykernel)",
   "language": "python",
   "name": "python3"
  },
  "language_info": {
   "codemirror_mode": {
    "name": "ipython",
    "version": 3
   },
   "file_extension": ".py",
   "mimetype": "text/x-python",
   "name": "python",
   "nbconvert_exporter": "python",
   "pygments_lexer": "ipython3",
   "version": "3.11.5"
  }
 },
 "nbformat": 4,
 "nbformat_minor": 5
}
