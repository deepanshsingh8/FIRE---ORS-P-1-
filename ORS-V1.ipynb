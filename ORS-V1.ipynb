{
 "cells": [
  {
   "cell_type": "code",
   "execution_count": null,
   "metadata": {},
   "outputs": [],
   "source": [
    "# Import necessary libraries\n",
    "from surprise import Dataset, Reader, KNNBasic\n",
    "import pandas as pd\n",
    "import pandas as pd\n",
    "from sklearn.metrics.pairwise import cosine_similarity"
   ]
  },
  {
   "cell_type": "markdown",
   "metadata": {},
   "source": [
    "# Read Data"
   ]
  },
  {
   "cell_type": "code",
   "execution_count": null,
   "metadata": {},
   "outputs": [],
   "source": [
    "# Read Data from Food_Data, Food_Rating, and Food_Tags\n",
    "food_data = pd.read_csv(\"ORS DataV1.1/Food_Data.csv\")\n",
    "\n",
    "food_rating = pd.read_csv('ORS DataV1.1/Food_Rating.csv')\n",
    "\n",
    "food_tags = pd.read_csv(\"ORS DataV1.1/food_tags.csv\")"
   ]
  },
  {
   "cell_type": "markdown",
   "metadata": {},
   "source": [
    "# Collaborative Filtering of Food Items based on User Ratings"
   ]
  },
  {
   "cell_type": "code",
   "execution_count": null,
   "metadata": {},
   "outputs": [],
   "source": [
    "# Merge dataframes to create a unified dataset\n",
    "merged_data = pd.merge(food_data, food_rating, on='FoodID')\n",
    "merged_data = pd.merge(merged_data, food_tags, on=['FoodID', 'UserID'])"
   ]
  },
  {
   "cell_type": "code",
   "execution_count": null,
   "metadata": {},
   "outputs": [],
   "source": [
    "merged_data"
   ]
  },
  {
   "cell_type": "code",
   "execution_count": null,
   "metadata": {},
   "outputs": [],
   "source": [
    "# Define a reader to parse the data\n",
    "reader = Reader(rating_scale=(1, 5))"
   ]
  },
  {
   "cell_type": "code",
   "execution_count": null,
   "metadata": {},
   "outputs": [],
   "source": [
    "# Load data into Surprise dataset\n",
    "data = Dataset.load_from_df(merged_data[['UserID', 'FoodID', 'Rating']], reader)\n"
   ]
  },
  {
   "cell_type": "code",
   "execution_count": null,
   "metadata": {},
   "outputs": [],
   "source": [
    "data"
   ]
  },
  {
   "cell_type": "code",
   "execution_count": null,
   "metadata": {},
   "outputs": [],
   "source": [
    "# Build a collaborative filtering model (k-NN algorithm)\n",
    "sim_options = {\n",
    "    'name': 'cosine',  # Use cosine similarity\n",
    "    'user_based': False  # Item-based collaborative filtering\n",
    "}\n",
    "model = KNNBasic(sim_options=sim_options)\n"
   ]
  },
  {
   "cell_type": "code",
   "execution_count": null,
   "metadata": {},
   "outputs": [],
   "source": [
    "# Train the model\n",
    "trainset = data.build_full_trainset()\n",
    "model.fit(trainset)"
   ]
  },
  {
   "cell_type": "code",
   "execution_count": null,
   "metadata": {},
   "outputs": [],
   "source": [
    "# Function to get recommendations for a given food item\n",
    "def get_recommendations_for_fooditem(food_name):\n",
    "    # Find the FoodID for the given food_name\n",
    "    food_id = food_data[food_data['FoodName'] == food_name]['FoodID'].values[0]\n",
    "\n",
    "    # Get the inner ID for the food in the model\n",
    "    food_inner_id = model.trainset.to_inner_iid(food_id)\n",
    "\n",
    "    # Get the 5 nearest neighbors for the given food\n",
    "    food_neighbors = model.get_neighbors(food_inner_id, k=5)\n",
    "\n",
    "    # Convert inner IDs back to FoodIDs\n",
    "    food_neighbors = [model.trainset.to_raw_iid(inner_id) for inner_id in food_neighbors]\n",
    "\n",
    "    # Get the names of the recommended foods\n",
    "    recommended_foods = food_data[food_data['FoodID'].isin(food_neighbors)]['FoodName'].tolist()\n",
    "\n",
    "    return recommended_foods"
   ]
  },
  {
   "cell_type": "code",
   "execution_count": null,
   "metadata": {},
   "outputs": [],
   "source": [
    "# Example: Get recommendations for Food Item\n",
    "food_item = input(\"Please enter a food item to get recommendations\")\n",
    "recommendations = get_recommendations_for_fooditem(food_item)\n",
    "print(\"FOOD - to - Food ORS running to fetch results..\")\n",
    "\n",
    "print(f\"Recommended foods with {food_item} : {recommendations}\")\n"
   ]
  },
  {
   "cell_type": "markdown",
   "metadata": {},
   "source": [
    "# USER SIMILARITY Based on preference of users with similar taste"
   ]
  },
  {
   "cell_type": "code",
   "execution_count": null,
   "metadata": {},
   "outputs": [],
   "source": [
    "# Merge dataframes to create a user-item matrix\n",
    "user_item_matrix = pd.merge(food_rating, food_data, on=\"FoodID\")\n",
    "\n",
    "# Create a pivot table for user-item matrix\n",
    "pivot_table = user_item_matrix.pivot_table(index='UserID', columns='FoodName', values='Rating', fill_value=0)\n",
    "\n",
    "# Calculate cosine similarity between users\n",
    "user_similarity = cosine_similarity(pivot_table.T)"
   ]
  },
  {
   "cell_type": "code",
   "execution_count": null,
   "metadata": {},
   "outputs": [],
   "source": [
    "pivot_table"
   ]
  },
  {
   "cell_type": "code",
   "execution_count": null,
   "metadata": {},
   "outputs": [],
   "source": [
    "# Recommend items based on user preferences\n",
    "def recommend_food_on_UserID(user_id, n=5):\n",
    "    user_index = pivot_table.index.get_loc(user_id)\n",
    "    most_similar_user_index = max(range(len(user_similarity[user_index])), key=lambda i: user_similarity[user_index][i])\n",
    "\n",
    "    user_data = user_item_matrix[user_item_matrix['UserID'] == most_similar_user_index + 1]\n",
    "    top_rated_food = user_data.sort_values(by='Rating', ascending=False)['FoodName'].unique().tolist()\n",
    "\n",
    "    # Filter out items the target user has already rated\n",
    "    top_rated_food = [food for food in top_rated_food if food not in pivot_table.columns[user_index]]\n",
    "\n",
    "    # Limit to the top n recommendations\n",
    "    final_recommendations = top_rated_food[:n]\n",
    "    print(f\"Most Similar User {most_similar_user_index+1} Recommendations: {final_recommendations}\")\n",
    "    return final_recommendations\n"
   ]
  },
  {
   "cell_type": "code",
   "execution_count": null,
   "metadata": {},
   "outputs": [],
   "source": [
    "# Example: Get recommendations for User\n",
    "User_ID = int(input(\"Please enter a UserID to get recommendations\"))\n",
    "recommen = recommend_food_on_UserID(User_ID, n=3)\n",
    "print(\"MOST SIMILAR USER ORS running to fetch results..\")\n",
    "\n",
    "print(f\"Recommended foods for {User_ID} : {recommen}\")"
   ]
  },
  {
   "cell_type": "code",
   "execution_count": null,
   "metadata": {},
   "outputs": [],
   "source": [
    "# Recommend items based on user preferences\n",
    "def recommend_food_on_n_similar_users(user_id, n=5, num_similar_users=5):\n",
    "    user_index = pivot_table.index.get_loc(user_id)\n",
    "    similar_users_indices = sorted(range(len(user_similarity[user_index])), key=lambda i: user_similarity[user_index][i], reverse=True)[1:num_similar_users + 1]\n",
    "\n",
    "    common_items = set()\n",
    "\n",
    "    for i in similar_users_indices:\n",
    "        user_data = user_item_matrix[user_item_matrix['UserID'] == i + 1]\n",
    "        top_rated_food = user_data.sort_values(by='Rating', ascending=False)['FoodName'].unique().tolist()\n",
    "\n",
    "        # Filter out items the target user has already rated\n",
    "        top_rated_food = [food for food in top_rated_food if food not in pivot_table.columns[user_index]]\n",
    "\n",
    "        # Update the set with unique items from each similar user\n",
    "        common_items.update(top_rated_food)\n",
    "\n",
    "    # Limit to the top n common items\n",
    "    final_common_items = list(common_items)[:n]\n",
    "    print(f\"Top {n} Common Items from Top {num_similar_users} Similar Users: {final_common_items}\")\n",
    "    return final_common_items\n"
   ]
  },
  {
   "cell_type": "code",
   "execution_count": null,
   "metadata": {},
   "outputs": [],
   "source": [
    "# Example: Get recommendations for User\n",
    "User_ID = int(input(\"Please enter a UserID to get recommendations\"))\n",
    "recommen = recommend_food_on_UserID(User_ID, n=3)\n",
    "print(\"Top N SIMILAR USERS ORS running to fetch results..\")\n",
    "\n",
    "print(f\"Recommended foods for {User_ID} : {recommen}\")"
   ]
  },
  {
   "cell_type": "code",
   "execution_count": null,
   "metadata": {},
   "outputs": [],
   "source": []
  },
  {
   "cell_type": "markdown",
   "metadata": {},
   "source": [
    "# Most sold, frequently bought food items, Not taking Ratings into consideration"
   ]
  },
  {
   "cell_type": "code",
   "execution_count": null,
   "metadata": {},
   "outputs": [],
   "source": [
    "# Merge dataframes to create a user-item matrix based on order frequency\n",
    "user_item_matrix = pd.merge(food_rating, food_data, on=\"FoodID\")\n",
    "\n",
    "# Create a pivot table for user-item matrix\n",
    "pivot_table = user_item_matrix.pivot_table(index='UserID', columns='FoodName', aggfunc='size', fill_value=0)\n",
    "\n",
    "# Calculate cosine similarity between users based on order frequency\n",
    "user_similarity = cosine_similarity(pivot_table.T)\n"
   ]
  },
  {
   "cell_type": "code",
   "execution_count": 109,
   "metadata": {},
   "outputs": [],
   "source": [
    "def recommend_popular_food(user_id, n=3, num_similar_users=5):\n",
    "    user_index = pivot_table.index.get_loc(user_id)\n",
    "    similar_users_indices = sorted(range(len(user_similarity[user_index])), key=lambda i: user_similarity[user_index][i], reverse=True)[1:num_similar_users + 1]\n",
    "\n",
    "    common_items = set()\n",
    "\n",
    "    for i in similar_users_indices:\n",
    "        user_data = user_item_matrix[user_item_matrix['UserID'] == i + 1]\n",
    "        most_ordered_food = user_data.groupby('FoodName').size().sort_values(ascending=False).index.tolist()\n",
    "\n",
    "        # Filter out items the target user has already ordered\n",
    "        most_ordered_food = [food for food in most_ordered_food if food not in pivot_table.columns[user_index]]\n",
    "\n",
    "        # Update the set with unique items from each similar user\n",
    "        common_items.update(most_ordered_food)\n",
    "\n",
    "    # Limit to the top n common items\n",
    "    final_common_items = list(common_items)[:n]\n",
    "    return final_common_items\n"
   ]
  },
  {
   "cell_type": "code",
   "execution_count": 111,
   "metadata": {},
   "outputs": [
    {
     "name": "stdout",
     "output_type": "stream",
     "text": [
      "Top 3 Most Ordered Items from Top 5 Similar Users: ['Baba Ghanoush (80 Gm) (D)', 'JUMBO Non Veg Kebab Meal Combo(0.6 Kg) 2-3 Persons TOPSELLER [DT]', 'Chicken Lahmacun']\n",
      "POPULAR FOOD ORS running to fetch results..\n",
      "Recommended foods for 1 : ['Baba Ghanoush (80 Gm) (D)', 'JUMBO Non Veg Kebab Meal Combo(0.6 Kg) 2-3 Persons TOPSELLER [DT]', 'Chicken Lahmacun']\n"
     ]
    }
   ],
   "source": [
    "# Example: Get recommendations for User\n",
    "User_ID = int(input(\"Please enter a UserID to get recommendations\"))\n",
    "recommen = recommend_popular_food(User_ID, n=3)\n",
    "print(\"POPULAR FOOD ORS running to fetch results..\")\n",
    "\n",
    "print(f\"Recommended foods for {User_ID} : {recommen}\")"
   ]
  },
  {
   "cell_type": "code",
   "execution_count": null,
   "metadata": {},
   "outputs": [],
   "source": []
  }
 ],
 "metadata": {
  "kernelspec": {
   "display_name": "FIRE",
   "language": "python",
   "name": "python3"
  },
  "language_info": {
   "codemirror_mode": {
    "name": "ipython",
    "version": 3
   },
   "file_extension": ".py",
   "mimetype": "text/x-python",
   "name": "python",
   "nbconvert_exporter": "python",
   "pygments_lexer": "ipython3",
   "version": "3.8.18"
  }
 },
 "nbformat": 4,
 "nbformat_minor": 2
}
