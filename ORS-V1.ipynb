{
 "cells": [
  {
   "cell_type": "code",
   "execution_count": 1,
   "metadata": {},
   "outputs": [],
   "source": [
    "# Import necessary libraries\n",
    "from surprise import Dataset, Reader, KNNBasic\n",
    "import pandas as pd"
   ]
  },
  {
   "cell_type": "code",
   "execution_count": 2,
   "metadata": {},
   "outputs": [],
   "source": [
    "# Read Data from Food_Data, Food_Rating, and Food_Tags\n",
    "food_data = pd.read_csv(\"ORS Data/Food_Data.csv\")\n",
    "\n",
    "food_rating = pd.read_csv('ORS Data/Food_Rating.csv')\n",
    "\n",
    "food_tags = pd.read_csv(\"ORS Data/food_tags.csv\")"
   ]
  },
  {
   "cell_type": "code",
   "execution_count": 8,
   "metadata": {},
   "outputs": [],
   "source": [
    "# Merge dataframes to create a unified dataset\n",
    "merged_data = pd.merge(food_data, food_rating, on='FoodID')\n",
    "merged_data = pd.merge(merged_data, food_tags, on=['FoodID', 'UserID'])"
   ]
  },
  {
   "cell_type": "code",
   "execution_count": 9,
   "metadata": {},
   "outputs": [
    {
     "data": {
      "text/html": [
       "<div>\n",
       "<style scoped>\n",
       "    .dataframe tbody tr th:only-of-type {\n",
       "        vertical-align: middle;\n",
       "    }\n",
       "\n",
       "    .dataframe tbody tr th {\n",
       "        vertical-align: top;\n",
       "    }\n",
       "\n",
       "    .dataframe thead th {\n",
       "        text-align: right;\n",
       "    }\n",
       "</style>\n",
       "<table border=\"1\" class=\"dataframe\">\n",
       "  <thead>\n",
       "    <tr style=\"text-align: right;\">\n",
       "      <th></th>\n",
       "      <th>FoodID</th>\n",
       "      <th>FoodName</th>\n",
       "      <th>Cuisine</th>\n",
       "      <th>UserID</th>\n",
       "      <th>Rating</th>\n",
       "      <th>Tags</th>\n",
       "    </tr>\n",
       "  </thead>\n",
       "  <tbody>\n",
       "    <tr>\n",
       "      <th>0</th>\n",
       "      <td>1</td>\n",
       "      <td>Masala Karela Recipe</td>\n",
       "      <td>Indian</td>\n",
       "      <td>16</td>\n",
       "      <td>4</td>\n",
       "      <td>Exquisite</td>\n",
       "    </tr>\n",
       "    <tr>\n",
       "      <th>1</th>\n",
       "      <td>1</td>\n",
       "      <td>Masala Karela Recipe</td>\n",
       "      <td>Indian</td>\n",
       "      <td>16</td>\n",
       "      <td>4</td>\n",
       "      <td>Mediocre</td>\n",
       "    </tr>\n",
       "    <tr>\n",
       "      <th>2</th>\n",
       "      <td>1</td>\n",
       "      <td>Masala Karela Recipe</td>\n",
       "      <td>Indian</td>\n",
       "      <td>16</td>\n",
       "      <td>2</td>\n",
       "      <td>Exquisite</td>\n",
       "    </tr>\n",
       "    <tr>\n",
       "      <th>3</th>\n",
       "      <td>1</td>\n",
       "      <td>Masala Karela Recipe</td>\n",
       "      <td>Indian</td>\n",
       "      <td>16</td>\n",
       "      <td>2</td>\n",
       "      <td>Mediocre</td>\n",
       "    </tr>\n",
       "    <tr>\n",
       "      <th>4</th>\n",
       "      <td>1</td>\n",
       "      <td>Masala Karela Recipe</td>\n",
       "      <td>Indian</td>\n",
       "      <td>1</td>\n",
       "      <td>1</td>\n",
       "      <td>Tasteless</td>\n",
       "    </tr>\n",
       "    <tr>\n",
       "      <th>...</th>\n",
       "      <td>...</td>\n",
       "      <td>...</td>\n",
       "      <td>...</td>\n",
       "      <td>...</td>\n",
       "      <td>...</td>\n",
       "      <td>...</td>\n",
       "    </tr>\n",
       "    <tr>\n",
       "      <th>1889</th>\n",
       "      <td>57</td>\n",
       "      <td>One Pot Methi Mushroom Brown Rice Pulao Recipe</td>\n",
       "      <td>Indian</td>\n",
       "      <td>4</td>\n",
       "      <td>5</td>\n",
       "      <td>Masterfully prepared</td>\n",
       "    </tr>\n",
       "    <tr>\n",
       "      <th>1890</th>\n",
       "      <td>57</td>\n",
       "      <td>One Pot Methi Mushroom Brown Rice Pulao Recipe</td>\n",
       "      <td>Indian</td>\n",
       "      <td>4</td>\n",
       "      <td>5</td>\n",
       "      <td>Sumptuous</td>\n",
       "    </tr>\n",
       "    <tr>\n",
       "      <th>1891</th>\n",
       "      <td>57</td>\n",
       "      <td>One Pot Methi Mushroom Brown Rice Pulao Recipe</td>\n",
       "      <td>Indian</td>\n",
       "      <td>4</td>\n",
       "      <td>5</td>\n",
       "      <td>Masterfully prepared</td>\n",
       "    </tr>\n",
       "    <tr>\n",
       "      <th>1892</th>\n",
       "      <td>57</td>\n",
       "      <td>One Pot Methi Mushroom Brown Rice Pulao Recipe</td>\n",
       "      <td>Indian</td>\n",
       "      <td>4</td>\n",
       "      <td>5</td>\n",
       "      <td>Sumptuous</td>\n",
       "    </tr>\n",
       "    <tr>\n",
       "      <th>1893</th>\n",
       "      <td>57</td>\n",
       "      <td>One Pot Methi Mushroom Brown Rice Pulao Recipe</td>\n",
       "      <td>Indian</td>\n",
       "      <td>2</td>\n",
       "      <td>4</td>\n",
       "      <td>Delectable</td>\n",
       "    </tr>\n",
       "  </tbody>\n",
       "</table>\n",
       "<p>1894 rows × 6 columns</p>\n",
       "</div>"
      ],
      "text/plain": [
       "      FoodID                                        FoodName Cuisine  UserID  \\\n",
       "0          1                            Masala Karela Recipe  Indian      16   \n",
       "1          1                            Masala Karela Recipe  Indian      16   \n",
       "2          1                            Masala Karela Recipe  Indian      16   \n",
       "3          1                            Masala Karela Recipe  Indian      16   \n",
       "4          1                            Masala Karela Recipe  Indian       1   \n",
       "...      ...                                             ...     ...     ...   \n",
       "1889      57  One Pot Methi Mushroom Brown Rice Pulao Recipe  Indian       4   \n",
       "1890      57  One Pot Methi Mushroom Brown Rice Pulao Recipe  Indian       4   \n",
       "1891      57  One Pot Methi Mushroom Brown Rice Pulao Recipe  Indian       4   \n",
       "1892      57  One Pot Methi Mushroom Brown Rice Pulao Recipe  Indian       4   \n",
       "1893      57  One Pot Methi Mushroom Brown Rice Pulao Recipe  Indian       2   \n",
       "\n",
       "      Rating                  Tags  \n",
       "0          4             Exquisite  \n",
       "1          4              Mediocre  \n",
       "2          2             Exquisite  \n",
       "3          2              Mediocre  \n",
       "4          1             Tasteless  \n",
       "...      ...                   ...  \n",
       "1889       5  Masterfully prepared  \n",
       "1890       5             Sumptuous  \n",
       "1891       5  Masterfully prepared  \n",
       "1892       5             Sumptuous  \n",
       "1893       4            Delectable  \n",
       "\n",
       "[1894 rows x 6 columns]"
      ]
     },
     "execution_count": 9,
     "metadata": {},
     "output_type": "execute_result"
    }
   ],
   "source": [
    "merged_data"
   ]
  },
  {
   "cell_type": "code",
   "execution_count": 10,
   "metadata": {},
   "outputs": [],
   "source": [
    "# Define a reader to parse the data\n",
    "reader = Reader(rating_scale=(1, 5))"
   ]
  },
  {
   "cell_type": "code",
   "execution_count": 11,
   "metadata": {},
   "outputs": [],
   "source": [
    "# Load data into Surprise dataset\n",
    "data = Dataset.load_from_df(merged_data[['UserID', 'FoodID', 'Rating']], reader)\n"
   ]
  },
  {
   "cell_type": "code",
   "execution_count": 12,
   "metadata": {},
   "outputs": [
    {
     "data": {
      "text/plain": [
       "<surprise.dataset.DatasetAutoFolds at 0x1d16bd5d4f0>"
      ]
     },
     "execution_count": 12,
     "metadata": {},
     "output_type": "execute_result"
    }
   ],
   "source": [
    "data"
   ]
  },
  {
   "cell_type": "code",
   "execution_count": 13,
   "metadata": {},
   "outputs": [],
   "source": [
    "# Build a collaborative filtering model (k-NN algorithm)\n",
    "sim_options = {\n",
    "    'name': 'cosine',  # Use cosine similarity\n",
    "    'user_based': False  # Item-based collaborative filtering\n",
    "}\n",
    "model = KNNBasic(sim_options=sim_options)\n"
   ]
  },
  {
   "cell_type": "code",
   "execution_count": 14,
   "metadata": {},
   "outputs": [
    {
     "name": "stdout",
     "output_type": "stream",
     "text": [
      "Computing the cosine similarity matrix...\n",
      "Done computing similarity matrix.\n"
     ]
    },
    {
     "data": {
      "text/plain": [
       "<surprise.prediction_algorithms.knns.KNNBasic at 0x1d16bcf2e20>"
      ]
     },
     "execution_count": 14,
     "metadata": {},
     "output_type": "execute_result"
    }
   ],
   "source": [
    "# Train the model\n",
    "trainset = data.build_full_trainset()\n",
    "model.fit(trainset)"
   ]
  },
  {
   "cell_type": "code",
   "execution_count": 18,
   "metadata": {},
   "outputs": [],
   "source": [
    "# Function to get recommendations for a given food item\n",
    "def get_recommendations(food_name):\n",
    "    # Find the FoodID for the given food_name\n",
    "    food_id = food_data[food_data['FoodName'] == food_name]['FoodID'].values[0]\n",
    "\n",
    "    # Get the inner ID for the food in the model\n",
    "    food_inner_id = model.trainset.to_inner_iid(food_id)\n",
    "\n",
    "    # Get the 5 nearest neighbors for the given food\n",
    "    food_neighbors = model.get_neighbors(food_inner_id, k=5)\n",
    "\n",
    "    # Convert inner IDs back to FoodIDs\n",
    "    food_neighbors = [model.trainset.to_raw_iid(inner_id) for inner_id in food_neighbors]\n",
    "\n",
    "    # Get the names of the recommended foods\n",
    "    recommended_foods = food_data[food_data['FoodID'].isin(food_neighbors)]['FoodName'].tolist()\n",
    "\n",
    "    return recommended_foods"
   ]
  },
  {
   "cell_type": "code",
   "execution_count": 19,
   "metadata": {},
   "outputs": [
    {
     "name": "stdout",
     "output_type": "stream",
     "text": [
      "ORS running to fetch results..\n",
      "Recommended foods for Masala Karela Recipe : ['Spicy Chilli Garlic Noodles Recipe', 'Mustard Vegetable Curry Recipe', 'Aloo Matar Masala Khichdi Recipe', 'Mushroom Dumpling Recipe With Potatoes (Momos)', 'Till Wale Aloo Recipe - Sesame Potato Sabzi']\n"
     ]
    }
   ],
   "source": [
    "# Example: Get recommendations for Food Item\n",
    "food_item = input(\"Please enter a food item to get recommendations\")\n",
    "recommendations = get_recommendations(food_item)\n",
    "print(\"ORS running to fetch results..\")\n",
    "\n",
    "print(f\"Recommended foods for {food_item} : {recommendations}\")\n"
   ]
  },
  {
   "cell_type": "code",
   "execution_count": null,
   "metadata": {},
   "outputs": [],
   "source": []
  }
 ],
 "metadata": {
  "kernelspec": {
   "display_name": "FIRE",
   "language": "python",
   "name": "python3"
  },
  "language_info": {
   "codemirror_mode": {
    "name": "ipython",
    "version": 3
   },
   "file_extension": ".py",
   "mimetype": "text/x-python",
   "name": "python",
   "nbconvert_exporter": "python",
   "pygments_lexer": "ipython3",
   "version": "3.8.18"
  }
 },
 "nbformat": 4,
 "nbformat_minor": 2
}
